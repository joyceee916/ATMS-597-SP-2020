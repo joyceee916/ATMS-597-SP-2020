{
  "nbformat": 4,
  "nbformat_minor": 0,
  "metadata": {
    "colab": {
      "name": "Project4_Joyce.ipynb",
      "provenance": [],
      "collapsed_sections": [],
      "mount_file_id": "https://github.com/joyceee916/ATMS-597-SP-2020/blob/master/Project4_Joyce.ipynb",
      "authorship_tag": "ABX9TyNc13q+p8qI837QXpEKwOPG",
      "include_colab_link": true
    },
    "kernelspec": {
      "name": "python3",
      "display_name": "Python 3"
    }
  },
  "cells": [
    {
      "cell_type": "markdown",
      "metadata": {
        "id": "view-in-github",
        "colab_type": "text"
      },
      "source": [
        "<a href=\"https://colab.research.google.com/github/joyceee916/ATMS-597-SP-2020/blob/master/Project4_Joyce.ipynb\" target=\"_parent\"><img src=\"https://colab.research.google.com/assets/colab-badge.svg\" alt=\"Open In Colab\"/></a>"
      ]
    },
    {
      "cell_type": "code",
      "metadata": {
        "id": "ruezpe8td16k",
        "colab_type": "code",
        "colab": {}
      },
      "source": [
        "%matplotlib inline \n",
        "import matplotlib.pyplot as plt \n",
        "import seaborn as sns; sns.set()\n",
        "import numpy as np\n",
        "import pandas as pd"
      ],
      "execution_count": 0,
      "outputs": []
    },
    {
      "cell_type": "code",
      "metadata": {
        "id": "XpaiuEzreXPX",
        "colab_type": "code",
        "outputId": "772fd49b-2960-41c9-9397-c972e48d53e0",
        "colab": {
          "base_uri": "https://localhost:8080/",
          "height": 34
        }
      },
      "source": [
        "cd /content/drive/My Drive/ATMS 597/Project4"
      ],
      "execution_count": 3,
      "outputs": [
        {
          "output_type": "stream",
          "text": [
            "/content/drive/My Drive/ATMS 597/Project4\n"
          ],
          "name": "stdout"
        }
      ]
    },
    {
      "cell_type": "markdown",
      "metadata": {
        "id": "p80xYI7KgaSk",
        "colab_type": "text"
      },
      "source": [
        "Tasks\n",
        "1. Use multiple linear regression to predict weather using past Global Forecast System (GFS) forecast data. \n",
        "\n",
        "2. Use random forest regression to predict weather using past GFS forecast data. \n",
        "\n",
        "Predict these variables for the period 6 UTC to 6 UTC the following day: \n",
        "* Maximum Temperature (C)\n",
        "* Minimum Temperature (C)\n",
        "* Maximum Wind Speed (m/s)\n",
        "* Total precipitation accumulation (mm)\n",
        "\n"
      ]
    },
    {
      "cell_type": "markdown",
      "metadata": {
        "id": "bdAHdn7Rh7o-",
        "colab_type": "text"
      },
      "source": [
        "Day 0 at 12 UTC: you will have a model run (that's given to you)\n",
        "* can incorporate observations up to but not including 00UTC \n",
        "* at the point of 00UTC will predict from 06UTC to 06UTC the next day \n",
        "\n",
        "Have 2 observational files (can be used in training, can also be used for verification)\n",
        "* KCMI_hourly.csv\n",
        "* KCMI_daily_obs.csv\n",
        "* ^^ have to sum hourly observations to get total precipitation, has daily values even though the column heading says \"hourly\"\n",
        "\n",
        "use pr1h or pr6h to correct for seasonal biases? (seems optional?) \n",
        "\n",
        "from the GFS: \n",
        "* daily.tar.gz, prof.tar.gz, sfc.tar.gz (UNIX zip files)\n",
        "* for each run they contain a csv file that has the GFS forecast data \n",
        "* sfc.tar.gz - has a lot of data if you want to play around with it (sounds optional)\n",
        "* prof.tar.gz - some upper air values (includes ~5 pressure levels) (can include if you want to) (sounds optional)\n",
        "* each run has a timestamp that starts at 12UTC\n",
        "\n",
        "main challenge: to get data lined up in Pandas \n",
        "\n",
        "start simple: start with a few variables and do a multiple linear regression, make sure things are working right \n",
        "\n",
        "could generate a persistence variable, try to predict tomorrow's data \n",
        "\n",
        "then could slowly add in more variables as you get more confidence \n",
        "\n",
        "could select different columns and see if your biases get better or worse as you swap out different columns - could write a function for this? \n",
        "\n",
        "2019 as a validation set \n",
        "\n",
        "calculate one metric: the RMS error (performance metric)\n",
        "\n",
        "this week, focus on getting data read in and organized \n",
        "\n",
        "\n",
        "\n",
        "NOW: CAN SUBSTITUTE BICYCLE RIDERS IN WITH TEMPERATURE DATA (MODULE 4 NOTEBOOK 1): PREDICT TEMPERATURE TOMORROW "
      ]
    },
    {
      "cell_type": "code",
      "metadata": {
        "id": "xQuMQq6LeYt1",
        "colab_type": "code",
        "colab": {}
      },
      "source": [
        "KCMI_daily_df = pd.read_csv(\"KCMI_daily.csv\", skiprows=8, parse_dates=True, index_col = 'Date')"
      ],
      "execution_count": 0,
      "outputs": []
    },
    {
      "cell_type": "code",
      "metadata": {
        "id": "lNJb5KMkkNw5",
        "colab_type": "code",
        "colab": {}
      },
      "source": [
        "KCMI_daily_df = KCMI_daily_df.iloc[0:3652, 0:4]"
      ],
      "execution_count": 0,
      "outputs": []
    },
    {
      "cell_type": "code",
      "metadata": {
        "id": "jk8_SyO9orqX",
        "colab_type": "code",
        "outputId": "aa882ea4-0212-4a1b-8755-934841925724",
        "colab": {
          "base_uri": "https://localhost:8080/",
          "height": 235
        }
      },
      "source": [
        "KCMI_daily_df.head()"
      ],
      "execution_count": 43,
      "outputs": [
        {
          "output_type": "execute_result",
          "data": {
            "text/html": [
              "<div>\n",
              "<style scoped>\n",
              "    .dataframe tbody tr th:only-of-type {\n",
              "        vertical-align: middle;\n",
              "    }\n",
              "\n",
              "    .dataframe tbody tr th {\n",
              "        vertical-align: top;\n",
              "    }\n",
              "\n",
              "    .dataframe thead th {\n",
              "        text-align: right;\n",
              "    }\n",
              "</style>\n",
              "<table border=\"1\" class=\"dataframe\">\n",
              "  <thead>\n",
              "    <tr style=\"text-align: right;\">\n",
              "      <th></th>\n",
              "      <th>Max Hourly Temp (F)</th>\n",
              "      <th>Min Hourly Temp (F)</th>\n",
              "      <th>Max Wind Speed (mph)</th>\n",
              "      <th>Total Precip (in)</th>\n",
              "    </tr>\n",
              "    <tr>\n",
              "      <th>Date</th>\n",
              "      <th></th>\n",
              "      <th></th>\n",
              "      <th></th>\n",
              "      <th></th>\n",
              "    </tr>\n",
              "  </thead>\n",
              "  <tbody>\n",
              "    <tr>\n",
              "      <th>2010-01-01</th>\n",
              "      <td>12</td>\n",
              "      <td>2</td>\n",
              "      <td>15</td>\n",
              "      <td>M</td>\n",
              "    </tr>\n",
              "    <tr>\n",
              "      <th>2010-01-02</th>\n",
              "      <td>6</td>\n",
              "      <td>-5</td>\n",
              "      <td>15</td>\n",
              "      <td>0.00</td>\n",
              "    </tr>\n",
              "    <tr>\n",
              "      <th>2010-01-03</th>\n",
              "      <td>10</td>\n",
              "      <td>-6</td>\n",
              "      <td>11</td>\n",
              "      <td>0.00</td>\n",
              "    </tr>\n",
              "    <tr>\n",
              "      <th>2010-01-04</th>\n",
              "      <td>11</td>\n",
              "      <td>-2</td>\n",
              "      <td>20</td>\n",
              "      <td>0.00</td>\n",
              "    </tr>\n",
              "    <tr>\n",
              "      <th>2010-01-05</th>\n",
              "      <td>10</td>\n",
              "      <td>-1</td>\n",
              "      <td>16</td>\n",
              "      <td>M</td>\n",
              "    </tr>\n",
              "  </tbody>\n",
              "</table>\n",
              "</div>"
            ],
            "text/plain": [
              "           Max Hourly Temp (F)  ... Total Precip (in)\n",
              "Date                            ...                  \n",
              "2010-01-01                  12  ...                 M\n",
              "2010-01-02                   6  ...              0.00\n",
              "2010-01-03                  10  ...              0.00\n",
              "2010-01-04                  11  ...              0.00\n",
              "2010-01-05                  10  ...                 M\n",
              "\n",
              "[5 rows x 4 columns]"
            ]
          },
          "metadata": {
            "tags": []
          },
          "execution_count": 43
        }
      ]
    },
    {
      "cell_type": "code",
      "metadata": {
        "id": "4oImRK2LRhxf",
        "colab_type": "code",
        "colab": {
          "base_uri": "https://localhost:8080/",
          "height": 450
        },
        "outputId": "f2778629-eaa4-4f80-89ab-f9cf741a93b1"
      },
      "source": [
        "KCMI_daily_df.rename(columns={'Max Hourly Temp (F)': 'Max_Temp', 'Min Hourly Temp (F)': 'Min_Temp', 'Max Wind Speed (mph)': 'Max_Wind', 'Total Precip (in)': 'Total_Precip'}, inplace = True)\n",
        "KCMI_daily_df"
      ],
      "execution_count": 48,
      "outputs": [
        {
          "output_type": "execute_result",
          "data": {
            "text/html": [
              "<div>\n",
              "<style scoped>\n",
              "    .dataframe tbody tr th:only-of-type {\n",
              "        vertical-align: middle;\n",
              "    }\n",
              "\n",
              "    .dataframe tbody tr th {\n",
              "        vertical-align: top;\n",
              "    }\n",
              "\n",
              "    .dataframe thead th {\n",
              "        text-align: right;\n",
              "    }\n",
              "</style>\n",
              "<table border=\"1\" class=\"dataframe\">\n",
              "  <thead>\n",
              "    <tr style=\"text-align: right;\">\n",
              "      <th></th>\n",
              "      <th>Max_Temp</th>\n",
              "      <th>Min_Temp</th>\n",
              "      <th>Max_Wind</th>\n",
              "      <th>Total_Precip</th>\n",
              "    </tr>\n",
              "    <tr>\n",
              "      <th>Date</th>\n",
              "      <th></th>\n",
              "      <th></th>\n",
              "      <th></th>\n",
              "      <th></th>\n",
              "    </tr>\n",
              "  </thead>\n",
              "  <tbody>\n",
              "    <tr>\n",
              "      <th>2010-01-01</th>\n",
              "      <td>12</td>\n",
              "      <td>2</td>\n",
              "      <td>15</td>\n",
              "      <td>M</td>\n",
              "    </tr>\n",
              "    <tr>\n",
              "      <th>2010-01-02</th>\n",
              "      <td>6</td>\n",
              "      <td>-5</td>\n",
              "      <td>15</td>\n",
              "      <td>0.00</td>\n",
              "    </tr>\n",
              "    <tr>\n",
              "      <th>2010-01-03</th>\n",
              "      <td>10</td>\n",
              "      <td>-6</td>\n",
              "      <td>11</td>\n",
              "      <td>0.00</td>\n",
              "    </tr>\n",
              "    <tr>\n",
              "      <th>2010-01-04</th>\n",
              "      <td>11</td>\n",
              "      <td>-2</td>\n",
              "      <td>20</td>\n",
              "      <td>0.00</td>\n",
              "    </tr>\n",
              "    <tr>\n",
              "      <th>2010-01-05</th>\n",
              "      <td>10</td>\n",
              "      <td>-1</td>\n",
              "      <td>16</td>\n",
              "      <td>M</td>\n",
              "    </tr>\n",
              "    <tr>\n",
              "      <th>...</th>\n",
              "      <td>...</td>\n",
              "      <td>...</td>\n",
              "      <td>...</td>\n",
              "      <td>...</td>\n",
              "    </tr>\n",
              "    <tr>\n",
              "      <th>2019-12-27</th>\n",
              "      <td>43</td>\n",
              "      <td>32</td>\n",
              "      <td>15</td>\n",
              "      <td>0.00</td>\n",
              "    </tr>\n",
              "    <tr>\n",
              "      <th>2019-12-28</th>\n",
              "      <td>56</td>\n",
              "      <td>32</td>\n",
              "      <td>23</td>\n",
              "      <td>0.23</td>\n",
              "    </tr>\n",
              "    <tr>\n",
              "      <th>2019-12-29</th>\n",
              "      <td>59</td>\n",
              "      <td>41</td>\n",
              "      <td>23</td>\n",
              "      <td>0.22</td>\n",
              "    </tr>\n",
              "    <tr>\n",
              "      <th>2019-12-30</th>\n",
              "      <td>38</td>\n",
              "      <td>31</td>\n",
              "      <td>26</td>\n",
              "      <td>0.01</td>\n",
              "    </tr>\n",
              "    <tr>\n",
              "      <th>2019-12-31</th>\n",
              "      <td>33</td>\n",
              "      <td>30</td>\n",
              "      <td>29</td>\n",
              "      <td>0.00</td>\n",
              "    </tr>\n",
              "  </tbody>\n",
              "</table>\n",
              "<p>3652 rows × 4 columns</p>\n",
              "</div>"
            ],
            "text/plain": [
              "           Max_Temp Min_Temp Max_Wind Total_Precip\n",
              "Date                                              \n",
              "2010-01-01       12        2       15            M\n",
              "2010-01-02        6       -5       15         0.00\n",
              "2010-01-03       10       -6       11         0.00\n",
              "2010-01-04       11       -2       20         0.00\n",
              "2010-01-05       10       -1       16            M\n",
              "...             ...      ...      ...          ...\n",
              "2019-12-27       43       32       15         0.00\n",
              "2019-12-28       56       32       23         0.23\n",
              "2019-12-29       59       41       23         0.22\n",
              "2019-12-30       38       31       26         0.01\n",
              "2019-12-31       33       30       29         0.00\n",
              "\n",
              "[3652 rows x 4 columns]"
            ]
          },
          "metadata": {
            "tags": []
          },
          "execution_count": 48
        }
      ]
    },
    {
      "cell_type": "code",
      "metadata": {
        "id": "tTL3p4aIT1Uu",
        "colab_type": "code",
        "colab": {}
      },
      "source": [
        "Practice_KCMI_daily = KCMI_daily_df[:]"
      ],
      "execution_count": 0,
      "outputs": []
    },
    {
      "cell_type": "code",
      "metadata": {
        "id": "ZUbN8zfEsYyQ",
        "colab_type": "code",
        "colab": {
          "base_uri": "https://localhost:8080/",
          "height": 450
        },
        "outputId": "e644ce61-1e32-4700-a1b8-0fbd0fa968fb"
      },
      "source": [
        "Practice_KCMI_daily = Practice_KCMI_daily[(Practice_KCMI_daily!='M')]\n",
        "Practice_KCMI_daily"
      ],
      "execution_count": 103,
      "outputs": [
        {
          "output_type": "execute_result",
          "data": {
            "text/html": [
              "<div>\n",
              "<style scoped>\n",
              "    .dataframe tbody tr th:only-of-type {\n",
              "        vertical-align: middle;\n",
              "    }\n",
              "\n",
              "    .dataframe tbody tr th {\n",
              "        vertical-align: top;\n",
              "    }\n",
              "\n",
              "    .dataframe thead th {\n",
              "        text-align: right;\n",
              "    }\n",
              "</style>\n",
              "<table border=\"1\" class=\"dataframe\">\n",
              "  <thead>\n",
              "    <tr style=\"text-align: right;\">\n",
              "      <th></th>\n",
              "      <th>Max_Temp</th>\n",
              "      <th>Min_Temp</th>\n",
              "      <th>Max_Wind</th>\n",
              "      <th>Total_Precip</th>\n",
              "    </tr>\n",
              "    <tr>\n",
              "      <th>Date</th>\n",
              "      <th></th>\n",
              "      <th></th>\n",
              "      <th></th>\n",
              "      <th></th>\n",
              "    </tr>\n",
              "  </thead>\n",
              "  <tbody>\n",
              "    <tr>\n",
              "      <th>2010-01-02</th>\n",
              "      <td>6</td>\n",
              "      <td>-5</td>\n",
              "      <td>15</td>\n",
              "      <td>0.00</td>\n",
              "    </tr>\n",
              "    <tr>\n",
              "      <th>2010-01-03</th>\n",
              "      <td>10</td>\n",
              "      <td>-6</td>\n",
              "      <td>11</td>\n",
              "      <td>0.00</td>\n",
              "    </tr>\n",
              "    <tr>\n",
              "      <th>2010-01-04</th>\n",
              "      <td>11</td>\n",
              "      <td>-2</td>\n",
              "      <td>20</td>\n",
              "      <td>0.00</td>\n",
              "    </tr>\n",
              "    <tr>\n",
              "      <th>2010-01-09</th>\n",
              "      <td>9</td>\n",
              "      <td>-9</td>\n",
              "      <td>16</td>\n",
              "      <td>0.00</td>\n",
              "    </tr>\n",
              "    <tr>\n",
              "      <th>2010-01-10</th>\n",
              "      <td>19</td>\n",
              "      <td>-12</td>\n",
              "      <td>18</td>\n",
              "      <td>0.00</td>\n",
              "    </tr>\n",
              "    <tr>\n",
              "      <th>...</th>\n",
              "      <td>...</td>\n",
              "      <td>...</td>\n",
              "      <td>...</td>\n",
              "      <td>...</td>\n",
              "    </tr>\n",
              "    <tr>\n",
              "      <th>2019-12-27</th>\n",
              "      <td>43</td>\n",
              "      <td>32</td>\n",
              "      <td>15</td>\n",
              "      <td>0.00</td>\n",
              "    </tr>\n",
              "    <tr>\n",
              "      <th>2019-12-28</th>\n",
              "      <td>56</td>\n",
              "      <td>32</td>\n",
              "      <td>23</td>\n",
              "      <td>0.23</td>\n",
              "    </tr>\n",
              "    <tr>\n",
              "      <th>2019-12-29</th>\n",
              "      <td>59</td>\n",
              "      <td>41</td>\n",
              "      <td>23</td>\n",
              "      <td>0.22</td>\n",
              "    </tr>\n",
              "    <tr>\n",
              "      <th>2019-12-30</th>\n",
              "      <td>38</td>\n",
              "      <td>31</td>\n",
              "      <td>26</td>\n",
              "      <td>0.01</td>\n",
              "    </tr>\n",
              "    <tr>\n",
              "      <th>2019-12-31</th>\n",
              "      <td>33</td>\n",
              "      <td>30</td>\n",
              "      <td>29</td>\n",
              "      <td>0.00</td>\n",
              "    </tr>\n",
              "  </tbody>\n",
              "</table>\n",
              "<p>2177 rows × 4 columns</p>\n",
              "</div>"
            ],
            "text/plain": [
              "           Max_Temp Min_Temp Max_Wind Total_Precip\n",
              "Date                                              \n",
              "2010-01-02        6       -5       15         0.00\n",
              "2010-01-03       10       -6       11         0.00\n",
              "2010-01-04       11       -2       20         0.00\n",
              "2010-01-09        9       -9       16         0.00\n",
              "2010-01-10       19      -12       18         0.00\n",
              "...             ...      ...      ...          ...\n",
              "2019-12-27       43       32       15         0.00\n",
              "2019-12-28       56       32       23         0.23\n",
              "2019-12-29       59       41       23         0.22\n",
              "2019-12-30       38       31       26         0.01\n",
              "2019-12-31       33       30       29         0.00\n",
              "\n",
              "[2177 rows x 4 columns]"
            ]
          },
          "metadata": {
            "tags": []
          },
          "execution_count": 103
        }
      ]
    },
    {
      "cell_type": "code",
      "metadata": {
        "id": "XO30hEaxtLsC",
        "colab_type": "code",
        "colab": {}
      },
      "source": [
        ""
      ],
      "execution_count": 0,
      "outputs": []
    },
    {
      "cell_type": "code",
      "metadata": {
        "id": "C5UMZbPbdmXh",
        "colab_type": "code",
        "colab": {}
      },
      "source": [
        "# create an array of the dates where Total_Precip=M \n",
        "M_dates = KCMI_daily_df.index[(KCMI_daily_df.Total_Precip == 'M')]"
      ],
      "execution_count": 0,
      "outputs": []
    },
    {
      "cell_type": "markdown",
      "metadata": {
        "id": "Nz6QLswpRhZB",
        "colab_type": "text"
      },
      "source": [
        "Bring In KCMI Hourly Data"
      ]
    },
    {
      "cell_type": "code",
      "metadata": {
        "id": "HYYbaVE0pVfM",
        "colab_type": "code",
        "colab": {}
      },
      "source": [
        "KCMI_hourly_df = pd.read_csv(\"KCMI_hourly.csv\", parse_dates=True, index_col = 'Timestamp')"
      ],
      "execution_count": 0,
      "outputs": []
    },
    {
      "cell_type": "code",
      "metadata": {
        "id": "nR0EjzRVvoSp",
        "colab_type": "code",
        "colab": {
          "base_uri": "https://localhost:8080/",
          "height": 225
        },
        "outputId": "37c2565b-e915-40d3-8fb8-4053b26d399e"
      },
      "source": [
        "KCMI_hourly_df.head()"
      ],
      "execution_count": 45,
      "outputs": [
        {
          "output_type": "execute_result",
          "data": {
            "text/html": [
              "<div>\n",
              "<style scoped>\n",
              "    .dataframe tbody tr th:only-of-type {\n",
              "        vertical-align: middle;\n",
              "    }\n",
              "\n",
              "    .dataframe tbody tr th {\n",
              "        vertical-align: top;\n",
              "    }\n",
              "\n",
              "    .dataframe thead th {\n",
              "        text-align: right;\n",
              "    }\n",
              "</style>\n",
              "<table border=\"1\" class=\"dataframe\">\n",
              "  <thead>\n",
              "    <tr style=\"text-align: right;\">\n",
              "      <th></th>\n",
              "      <th>year</th>\n",
              "      <th>month</th>\n",
              "      <th>day</th>\n",
              "      <th>hour</th>\n",
              "      <th>tmpc</th>\n",
              "      <th>dwpc</th>\n",
              "      <th>mslp</th>\n",
              "      <th>wdir</th>\n",
              "      <th>wspd</th>\n",
              "      <th>skct</th>\n",
              "      <th>pr1h</th>\n",
              "      <th>pr6h</th>\n",
              "      <th>doy</th>\n",
              "      <th>woy</th>\n",
              "    </tr>\n",
              "    <tr>\n",
              "      <th>Timestamp</th>\n",
              "      <th></th>\n",
              "      <th></th>\n",
              "      <th></th>\n",
              "      <th></th>\n",
              "      <th></th>\n",
              "      <th></th>\n",
              "      <th></th>\n",
              "      <th></th>\n",
              "      <th></th>\n",
              "      <th></th>\n",
              "      <th></th>\n",
              "      <th></th>\n",
              "      <th></th>\n",
              "      <th></th>\n",
              "    </tr>\n",
              "  </thead>\n",
              "  <tbody>\n",
              "    <tr>\n",
              "      <th>2005-12-31 19:00:00</th>\n",
              "      <td>2006</td>\n",
              "      <td>1</td>\n",
              "      <td>1</td>\n",
              "      <td>1</td>\n",
              "      <td>0.6</td>\n",
              "      <td>-1.7</td>\n",
              "      <td>1012.6</td>\n",
              "      <td>220.0</td>\n",
              "      <td>2.1</td>\n",
              "      <td>2.0</td>\n",
              "      <td>0.0</td>\n",
              "      <td>NaN</td>\n",
              "      <td>365</td>\n",
              "      <td>52</td>\n",
              "    </tr>\n",
              "    <tr>\n",
              "      <th>2005-12-31 20:00:00</th>\n",
              "      <td>2006</td>\n",
              "      <td>1</td>\n",
              "      <td>1</td>\n",
              "      <td>2</td>\n",
              "      <td>0.0</td>\n",
              "      <td>-1.7</td>\n",
              "      <td>1012.9</td>\n",
              "      <td>160.0</td>\n",
              "      <td>2.1</td>\n",
              "      <td>0.0</td>\n",
              "      <td>0.0</td>\n",
              "      <td>NaN</td>\n",
              "      <td>365</td>\n",
              "      <td>52</td>\n",
              "    </tr>\n",
              "    <tr>\n",
              "      <th>2005-12-31 21:00:00</th>\n",
              "      <td>2006</td>\n",
              "      <td>1</td>\n",
              "      <td>1</td>\n",
              "      <td>3</td>\n",
              "      <td>-0.6</td>\n",
              "      <td>-2.2</td>\n",
              "      <td>1013.4</td>\n",
              "      <td>170.0</td>\n",
              "      <td>1.5</td>\n",
              "      <td>0.0</td>\n",
              "      <td>0.0</td>\n",
              "      <td>NaN</td>\n",
              "      <td>365</td>\n",
              "      <td>52</td>\n",
              "    </tr>\n",
              "    <tr>\n",
              "      <th>2005-12-31 22:00:00</th>\n",
              "      <td>2006</td>\n",
              "      <td>1</td>\n",
              "      <td>1</td>\n",
              "      <td>4</td>\n",
              "      <td>-1.1</td>\n",
              "      <td>-2.2</td>\n",
              "      <td>1012.9</td>\n",
              "      <td>160.0</td>\n",
              "      <td>3.1</td>\n",
              "      <td>0.0</td>\n",
              "      <td>0.0</td>\n",
              "      <td>NaN</td>\n",
              "      <td>365</td>\n",
              "      <td>52</td>\n",
              "    </tr>\n",
              "    <tr>\n",
              "      <th>2005-12-31 23:00:00</th>\n",
              "      <td>2006</td>\n",
              "      <td>1</td>\n",
              "      <td>1</td>\n",
              "      <td>5</td>\n",
              "      <td>-1.1</td>\n",
              "      <td>-2.2</td>\n",
              "      <td>1013.1</td>\n",
              "      <td>160.0</td>\n",
              "      <td>3.1</td>\n",
              "      <td>0.0</td>\n",
              "      <td>0.0</td>\n",
              "      <td>NaN</td>\n",
              "      <td>365</td>\n",
              "      <td>52</td>\n",
              "    </tr>\n",
              "  </tbody>\n",
              "</table>\n",
              "</div>"
            ],
            "text/plain": [
              "                     year  month  day  hour  tmpc  ...  skct  pr1h  pr6h  doy  woy\n",
              "Timestamp                                          ...                            \n",
              "2005-12-31 19:00:00  2006      1    1     1   0.6  ...   2.0   0.0   NaN  365   52\n",
              "2005-12-31 20:00:00  2006      1    1     2   0.0  ...   0.0   0.0   NaN  365   52\n",
              "2005-12-31 21:00:00  2006      1    1     3  -0.6  ...   0.0   0.0   NaN  365   52\n",
              "2005-12-31 22:00:00  2006      1    1     4  -1.1  ...   0.0   0.0   NaN  365   52\n",
              "2005-12-31 23:00:00  2006      1    1     5  -1.1  ...   0.0   0.0   NaN  365   52\n",
              "\n",
              "[5 rows x 14 columns]"
            ]
          },
          "metadata": {
            "tags": []
          },
          "execution_count": 45
        }
      ]
    },
    {
      "cell_type": "markdown",
      "metadata": {
        "id": "_u9Byb3USGUD",
        "colab_type": "text"
      },
      "source": [
        "clean up and rename columns? "
      ]
    },
    {
      "cell_type": "code",
      "metadata": {
        "id": "gf5adchYg78P",
        "colab_type": "code",
        "colab": {}
      },
      "source": [
        "# Use M_dates to select out dates from KCMI_hourly\n",
        "# Sum hourly values from KCMI_hourly \n",
        "# Bring those values back into KCMI_daily "
      ],
      "execution_count": 0,
      "outputs": []
    },
    {
      "cell_type": "markdown",
      "metadata": {
        "id": "7ch6LANThck9",
        "colab_type": "text"
      },
      "source": [
        "Linear Regression "
      ]
    },
    {
      "cell_type": "markdown",
      "metadata": {
        "id": "AFmJqPIghabQ",
        "colab_type": "text"
      },
      "source": [
        "Machine Learning"
      ]
    },
    {
      "cell_type": "code",
      "metadata": {
        "id": "_Ty70n4VSfzA",
        "colab_type": "code",
        "colab": {}
      },
      "source": [
        "from sklearn.model_selection import train_test_split"
      ],
      "execution_count": 0,
      "outputs": []
    },
    {
      "cell_type": "code",
      "metadata": {
        "id": "zqvvvbnfv5rF",
        "colab_type": "code",
        "colab": {
          "base_uri": "https://localhost:8080/",
          "height": 431
        },
        "outputId": "c8c50ce6-3c70-423b-bd50-3a194861fecc"
      },
      "source": [
        "col_mask=Practice_KCMI_daily.isnull().any(axis=0) \n",
        "row_mask=Practice_KCMI_daily.isnull().any(axis=1)\n",
        "Practice_KCMI_daily.loc[row_mask,col_mask]\n",
        "\n",
        "Practice_KCMI_daily.dropna()"
      ],
      "execution_count": 127,
      "outputs": [
        {
          "output_type": "execute_result",
          "data": {
            "text/html": [
              "<div>\n",
              "<style scoped>\n",
              "    .dataframe tbody tr th:only-of-type {\n",
              "        vertical-align: middle;\n",
              "    }\n",
              "\n",
              "    .dataframe tbody tr th {\n",
              "        vertical-align: top;\n",
              "    }\n",
              "\n",
              "    .dataframe thead th {\n",
              "        text-align: right;\n",
              "    }\n",
              "</style>\n",
              "<table border=\"1\" class=\"dataframe\">\n",
              "  <thead>\n",
              "    <tr style=\"text-align: right;\">\n",
              "      <th></th>\n",
              "      <th>Max_Temp</th>\n",
              "      <th>Min_Temp</th>\n",
              "      <th>Max_Wind</th>\n",
              "      <th>Total_Precip</th>\n",
              "    </tr>\n",
              "    <tr>\n",
              "      <th>Date</th>\n",
              "      <th></th>\n",
              "      <th></th>\n",
              "      <th></th>\n",
              "      <th></th>\n",
              "    </tr>\n",
              "  </thead>\n",
              "  <tbody>\n",
              "    <tr>\n",
              "      <th>2010-01-02</th>\n",
              "      <td>6</td>\n",
              "      <td>-5</td>\n",
              "      <td>15</td>\n",
              "      <td>0.00</td>\n",
              "    </tr>\n",
              "    <tr>\n",
              "      <th>2010-01-03</th>\n",
              "      <td>10</td>\n",
              "      <td>-6</td>\n",
              "      <td>11</td>\n",
              "      <td>0.00</td>\n",
              "    </tr>\n",
              "    <tr>\n",
              "      <th>2010-01-04</th>\n",
              "      <td>11</td>\n",
              "      <td>-2</td>\n",
              "      <td>20</td>\n",
              "      <td>0.00</td>\n",
              "    </tr>\n",
              "    <tr>\n",
              "      <th>2010-01-09</th>\n",
              "      <td>9</td>\n",
              "      <td>-9</td>\n",
              "      <td>16</td>\n",
              "      <td>0.00</td>\n",
              "    </tr>\n",
              "    <tr>\n",
              "      <th>2010-01-10</th>\n",
              "      <td>19</td>\n",
              "      <td>-12</td>\n",
              "      <td>18</td>\n",
              "      <td>0.00</td>\n",
              "    </tr>\n",
              "    <tr>\n",
              "      <th>...</th>\n",
              "      <td>...</td>\n",
              "      <td>...</td>\n",
              "      <td>...</td>\n",
              "      <td>...</td>\n",
              "    </tr>\n",
              "    <tr>\n",
              "      <th>2019-12-27</th>\n",
              "      <td>43</td>\n",
              "      <td>32</td>\n",
              "      <td>15</td>\n",
              "      <td>0.00</td>\n",
              "    </tr>\n",
              "    <tr>\n",
              "      <th>2019-12-28</th>\n",
              "      <td>56</td>\n",
              "      <td>32</td>\n",
              "      <td>23</td>\n",
              "      <td>0.23</td>\n",
              "    </tr>\n",
              "    <tr>\n",
              "      <th>2019-12-29</th>\n",
              "      <td>59</td>\n",
              "      <td>41</td>\n",
              "      <td>23</td>\n",
              "      <td>0.22</td>\n",
              "    </tr>\n",
              "    <tr>\n",
              "      <th>2019-12-30</th>\n",
              "      <td>38</td>\n",
              "      <td>31</td>\n",
              "      <td>26</td>\n",
              "      <td>0.01</td>\n",
              "    </tr>\n",
              "    <tr>\n",
              "      <th>2019-12-31</th>\n",
              "      <td>33</td>\n",
              "      <td>30</td>\n",
              "      <td>29</td>\n",
              "      <td>0.00</td>\n",
              "    </tr>\n",
              "  </tbody>\n",
              "</table>\n",
              "<p>2155 rows × 4 columns</p>\n",
              "</div>"
            ],
            "text/plain": [
              "           Max_Temp Min_Temp Max_Wind Total_Precip\n",
              "Date                                              \n",
              "2010-01-02        6       -5       15         0.00\n",
              "2010-01-03       10       -6       11         0.00\n",
              "2010-01-04       11       -2       20         0.00\n",
              "2010-01-09        9       -9       16         0.00\n",
              "2010-01-10       19      -12       18         0.00\n",
              "...             ...      ...      ...          ...\n",
              "2019-12-27       43       32       15         0.00\n",
              "2019-12-28       56       32       23         0.23\n",
              "2019-12-29       59       41       23         0.22\n",
              "2019-12-30       38       31       26         0.01\n",
              "2019-12-31       33       30       29         0.00\n",
              "\n",
              "[2155 rows x 4 columns]"
            ]
          },
          "metadata": {
            "tags": []
          },
          "execution_count": 127
        }
      ]
    },
    {
      "cell_type": "code",
      "metadata": {
        "id": "quWaes_PSjx8",
        "colab_type": "code",
        "colab": {}
      },
      "source": [
        "# TODO change back to KCMI_daily \n",
        "x = Practice_KCMI_daily.drop(['Total_Precip'], axis=1)\n",
        "y = Practice_KCMI_daily['Total_Precip']"
      ],
      "execution_count": 0,
      "outputs": []
    },
    {
      "cell_type": "code",
      "metadata": {
        "id": "PJsMe8x9Szpo",
        "colab_type": "code",
        "colab": {}
      },
      "source": [
        "x_train, x_test, y_train, y_test = train_test_split(x, y, test_size = 0.1, random_state=123)"
      ],
      "execution_count": 0,
      "outputs": []
    },
    {
      "cell_type": "code",
      "metadata": {
        "id": "gXDX_NsQS8Ta",
        "colab_type": "code",
        "colab": {
          "base_uri": "https://localhost:8080/",
          "height": 34
        },
        "outputId": "cfb7b3b8-92c4-4d52-ccc2-efccc04c0bf5"
      },
      "source": [
        "print(x_train.shape, x_test.shape, y_train.shape, y_test.shape)"
      ],
      "execution_count": 130,
      "outputs": [
        {
          "output_type": "stream",
          "text": [
            "(1959, 3) (218, 3) (1959,) (218,)\n"
          ],
          "name": "stdout"
        }
      ]
    },
    {
      "cell_type": "code",
      "metadata": {
        "id": "-oVw84rQTNuz",
        "colab_type": "code",
        "colab": {}
      },
      "source": [
        "from sklearn.tree import DecisionTreeRegressor \n",
        "from sklearn.ensemble import RandomForestRegressor "
      ],
      "execution_count": 0,
      "outputs": []
    },
    {
      "cell_type": "code",
      "metadata": {
        "id": "Kk8ZmYleTUzc",
        "colab_type": "code",
        "colab": {}
      },
      "source": [
        "tree_model = DecisionTreeRegressor()\n",
        "rf_model = RandomForestRegressor()"
      ],
      "execution_count": 0,
      "outputs": []
    },
    {
      "cell_type": "code",
      "metadata": {
        "id": "DKko_rs4TY-j",
        "colab_type": "code",
        "colab": {
          "base_uri": "https://localhost:8080/",
          "height": 324
        },
        "outputId": "a4312fa3-975a-46c8-8356-77dd802ba2cd"
      },
      "source": [
        "tree_model.fit(x_train, y_train) \n",
        "### do something about the 'M' values "
      ],
      "execution_count": 134,
      "outputs": [
        {
          "output_type": "error",
          "ename": "ValueError",
          "evalue": "ignored",
          "traceback": [
            "\u001b[0;31m---------------------------------------------------------------------------\u001b[0m",
            "\u001b[0;31mValueError\u001b[0m                                Traceback (most recent call last)",
            "\u001b[0;32m<ipython-input-134-19280b6f49db>\u001b[0m in \u001b[0;36m<module>\u001b[0;34m()\u001b[0m\n\u001b[0;32m----> 1\u001b[0;31m \u001b[0mtree_model\u001b[0m\u001b[0;34m.\u001b[0m\u001b[0mfit\u001b[0m\u001b[0;34m(\u001b[0m\u001b[0mx_train\u001b[0m\u001b[0;34m,\u001b[0m \u001b[0my_train\u001b[0m\u001b[0;34m)\u001b[0m\u001b[0;34m\u001b[0m\u001b[0;34m\u001b[0m\u001b[0m\n\u001b[0m\u001b[1;32m      2\u001b[0m \u001b[0;31m### do something about the 'M' values\u001b[0m\u001b[0;34m\u001b[0m\u001b[0;34m\u001b[0m\u001b[0;34m\u001b[0m\u001b[0m\n",
            "\u001b[0;32m/usr/local/lib/python3.6/dist-packages/sklearn/tree/_classes.py\u001b[0m in \u001b[0;36mfit\u001b[0;34m(self, X, y, sample_weight, check_input, X_idx_sorted)\u001b[0m\n\u001b[1;32m   1223\u001b[0m             \u001b[0msample_weight\u001b[0m\u001b[0;34m=\u001b[0m\u001b[0msample_weight\u001b[0m\u001b[0;34m,\u001b[0m\u001b[0;34m\u001b[0m\u001b[0;34m\u001b[0m\u001b[0m\n\u001b[1;32m   1224\u001b[0m             \u001b[0mcheck_input\u001b[0m\u001b[0;34m=\u001b[0m\u001b[0mcheck_input\u001b[0m\u001b[0;34m,\u001b[0m\u001b[0;34m\u001b[0m\u001b[0;34m\u001b[0m\u001b[0m\n\u001b[0;32m-> 1225\u001b[0;31m             X_idx_sorted=X_idx_sorted)\n\u001b[0m\u001b[1;32m   1226\u001b[0m         \u001b[0;32mreturn\u001b[0m \u001b[0mself\u001b[0m\u001b[0;34m\u001b[0m\u001b[0;34m\u001b[0m\u001b[0m\n\u001b[1;32m   1227\u001b[0m \u001b[0;34m\u001b[0m\u001b[0m\n",
            "\u001b[0;32m/usr/local/lib/python3.6/dist-packages/sklearn/tree/_classes.py\u001b[0m in \u001b[0;36mfit\u001b[0;34m(self, X, y, sample_weight, check_input, X_idx_sorted)\u001b[0m\n\u001b[1;32m    147\u001b[0m \u001b[0;34m\u001b[0m\u001b[0m\n\u001b[1;32m    148\u001b[0m         \u001b[0;32mif\u001b[0m \u001b[0mcheck_input\u001b[0m\u001b[0;34m:\u001b[0m\u001b[0;34m\u001b[0m\u001b[0;34m\u001b[0m\u001b[0m\n\u001b[0;32m--> 149\u001b[0;31m             \u001b[0mX\u001b[0m \u001b[0;34m=\u001b[0m \u001b[0mcheck_array\u001b[0m\u001b[0;34m(\u001b[0m\u001b[0mX\u001b[0m\u001b[0;34m,\u001b[0m \u001b[0mdtype\u001b[0m\u001b[0;34m=\u001b[0m\u001b[0mDTYPE\u001b[0m\u001b[0;34m,\u001b[0m \u001b[0maccept_sparse\u001b[0m\u001b[0;34m=\u001b[0m\u001b[0;34m\"csc\"\u001b[0m\u001b[0;34m)\u001b[0m\u001b[0;34m\u001b[0m\u001b[0;34m\u001b[0m\u001b[0m\n\u001b[0m\u001b[1;32m    150\u001b[0m             \u001b[0my\u001b[0m \u001b[0;34m=\u001b[0m \u001b[0mcheck_array\u001b[0m\u001b[0;34m(\u001b[0m\u001b[0my\u001b[0m\u001b[0;34m,\u001b[0m \u001b[0mensure_2d\u001b[0m\u001b[0;34m=\u001b[0m\u001b[0;32mFalse\u001b[0m\u001b[0;34m,\u001b[0m \u001b[0mdtype\u001b[0m\u001b[0;34m=\u001b[0m\u001b[0;32mNone\u001b[0m\u001b[0;34m)\u001b[0m\u001b[0;34m\u001b[0m\u001b[0;34m\u001b[0m\u001b[0m\n\u001b[1;32m    151\u001b[0m             \u001b[0;32mif\u001b[0m \u001b[0missparse\u001b[0m\u001b[0;34m(\u001b[0m\u001b[0mX\u001b[0m\u001b[0;34m)\u001b[0m\u001b[0;34m:\u001b[0m\u001b[0;34m\u001b[0m\u001b[0;34m\u001b[0m\u001b[0m\n",
            "\u001b[0;32m/usr/local/lib/python3.6/dist-packages/sklearn/utils/validation.py\u001b[0m in \u001b[0;36mcheck_array\u001b[0;34m(array, accept_sparse, accept_large_sparse, dtype, order, copy, force_all_finite, ensure_2d, allow_nd, ensure_min_samples, ensure_min_features, warn_on_dtype, estimator)\u001b[0m\n\u001b[1;32m    576\u001b[0m         \u001b[0;32mif\u001b[0m \u001b[0mforce_all_finite\u001b[0m\u001b[0;34m:\u001b[0m\u001b[0;34m\u001b[0m\u001b[0;34m\u001b[0m\u001b[0m\n\u001b[1;32m    577\u001b[0m             _assert_all_finite(array,\n\u001b[0;32m--> 578\u001b[0;31m                                allow_nan=force_all_finite == 'allow-nan')\n\u001b[0m\u001b[1;32m    579\u001b[0m \u001b[0;34m\u001b[0m\u001b[0m\n\u001b[1;32m    580\u001b[0m     \u001b[0;32mif\u001b[0m \u001b[0mensure_min_samples\u001b[0m \u001b[0;34m>\u001b[0m \u001b[0;36m0\u001b[0m\u001b[0;34m:\u001b[0m\u001b[0;34m\u001b[0m\u001b[0;34m\u001b[0m\u001b[0m\n",
            "\u001b[0;32m/usr/local/lib/python3.6/dist-packages/sklearn/utils/validation.py\u001b[0m in \u001b[0;36m_assert_all_finite\u001b[0;34m(X, allow_nan, msg_dtype)\u001b[0m\n\u001b[1;32m     58\u001b[0m                     \u001b[0mmsg_err\u001b[0m\u001b[0;34m.\u001b[0m\u001b[0mformat\u001b[0m\u001b[0;34m\u001b[0m\u001b[0;34m\u001b[0m\u001b[0m\n\u001b[1;32m     59\u001b[0m                     (type_err,\n\u001b[0;32m---> 60\u001b[0;31m                      msg_dtype if msg_dtype is not None else X.dtype)\n\u001b[0m\u001b[1;32m     61\u001b[0m             )\n\u001b[1;32m     62\u001b[0m     \u001b[0;31m# for object dtype data, we only check for NaNs (GH-13254)\u001b[0m\u001b[0;34m\u001b[0m\u001b[0;34m\u001b[0m\u001b[0;34m\u001b[0m\u001b[0m\n",
            "\u001b[0;31mValueError\u001b[0m: Input contains NaN, infinity or a value too large for dtype('float32')."
          ]
        }
      ]
    },
    {
      "cell_type": "code",
      "metadata": {
        "id": "8r99OOV4PvJM",
        "colab_type": "code",
        "colab": {}
      },
      "source": [
        "## LINEAR REGRESSION \n"
      ],
      "execution_count": 0,
      "outputs": []
    },
    {
      "cell_type": "code",
      "metadata": {
        "id": "CSzR5uJCv4JR",
        "colab_type": "code",
        "colab": {}
      },
      "source": [
        "Daily_Tar = open(\"daily.tar.gz\")"
      ],
      "execution_count": 0,
      "outputs": []
    },
    {
      "cell_type": "code",
      "metadata": {
        "id": "Z2AmGfu--FEw",
        "colab_type": "code",
        "colab": {}
      },
      "source": [
        ""
      ],
      "execution_count": 0,
      "outputs": []
    }
  ]
}