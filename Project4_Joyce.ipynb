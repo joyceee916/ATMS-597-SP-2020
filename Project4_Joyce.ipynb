{
  "nbformat": 4,
  "nbformat_minor": 0,
  "metadata": {
    "colab": {
      "name": "Project4_Joyce.ipynb",
      "provenance": [],
      "mount_file_id": "14QKdkMkDu0t4ZZ3ol7p62HtDWK4qVBmt",
      "authorship_tag": "ABX9TyNDydT47kEzmOUnNyOjbXU/",
      "include_colab_link": true
    },
    "kernelspec": {
      "name": "python3",
      "display_name": "Python 3"
    }
  },
  "cells": [
    {
      "cell_type": "markdown",
      "metadata": {
        "id": "view-in-github",
        "colab_type": "text"
      },
      "source": [
        "<a href=\"https://colab.research.google.com/github/joyceee916/ATMS-597-SP-2020/blob/master/Project4_Joyce.ipynb\" target=\"_parent\"><img src=\"https://colab.research.google.com/assets/colab-badge.svg\" alt=\"Open In Colab\"/></a>"
      ]
    },
    {
      "cell_type": "code",
      "metadata": {
        "id": "ruezpe8td16k",
        "colab_type": "code",
        "colab": {}
      },
      "source": [
        "%matplotlib inline \n",
        "import matplotlib.pyplot as plt \n",
        "import seaborn as sns; sns.set()\n",
        "import numpy as np"
      ],
      "execution_count": 0,
      "outputs": []
    },
    {
      "cell_type": "code",
      "metadata": {
        "id": "XpaiuEzreXPX",
        "colab_type": "code",
        "colab": {
          "base_uri": "https://localhost:8080/",
          "height": 34
        },
        "outputId": "3b62615a-bb5c-47b9-f701-2634f3d175df"
      },
      "source": [
        "cd /content/drive/My Drive/ATMS 597/Project4"
      ],
      "execution_count": 15,
      "outputs": [
        {
          "output_type": "stream",
          "text": [
            "/content/drive/My Drive/ATMS 597/Project4\n"
          ],
          "name": "stdout"
        }
      ]
    },
    {
      "cell_type": "markdown",
      "metadata": {
        "id": "p80xYI7KgaSk",
        "colab_type": "text"
      },
      "source": [
        "Tasks\n"
      ]
    },
    {
      "cell_type": "code",
      "metadata": {
        "id": "xQuMQq6LeYt1",
        "colab_type": "code",
        "colab": {}
      },
      "source": [
        ""
      ],
      "execution_count": 0,
      "outputs": []
    }
  ]
}