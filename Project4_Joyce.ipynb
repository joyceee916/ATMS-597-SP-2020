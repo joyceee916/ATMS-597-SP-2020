{
  "nbformat": 4,
  "nbformat_minor": 0,
  "metadata": {
    "colab": {
      "name": "Project4_Joyce.ipynb",
      "provenance": [],
      "collapsed_sections": [],
      "mount_file_id": "https://github.com/joyceee916/ATMS-597-SP-2020/blob/master/Project4_Joyce.ipynb",
      "authorship_tag": "ABX9TyM2H1wvNx6SIwJZmt+e38PS",
      "include_colab_link": true
    },
    "kernelspec": {
      "name": "python3",
      "display_name": "Python 3"
    }
  },
  "cells": [
    {
      "cell_type": "markdown",
      "metadata": {
        "id": "view-in-github",
        "colab_type": "text"
      },
      "source": [
        "<a href=\"https://colab.research.google.com/github/joyceee916/ATMS-597-SP-2020/blob/master/Project4_Joyce.ipynb\" target=\"_parent\"><img src=\"https://colab.research.google.com/assets/colab-badge.svg\" alt=\"Open In Colab\"/></a>"
      ]
    },
    {
      "cell_type": "code",
      "metadata": {
        "id": "ruezpe8td16k",
        "colab_type": "code",
        "colab": {}
      },
      "source": [
        "%matplotlib inline \n",
        "import matplotlib.pyplot as plt \n",
        "import seaborn as sns; sns.set()\n",
        "import numpy as np\n",
        "import pandas as pd"
      ],
      "execution_count": 0,
      "outputs": []
    },
    {
      "cell_type": "code",
      "metadata": {
        "id": "XpaiuEzreXPX",
        "colab_type": "code",
        "outputId": "6da6b207-8afe-4775-ce4c-e81459fbd790",
        "colab": {
          "base_uri": "https://localhost:8080/",
          "height": 34
        }
      },
      "source": [
        "cd /content/drive/My Drive/ATMS 597/Project4"
      ],
      "execution_count": 136,
      "outputs": [
        {
          "output_type": "stream",
          "text": [
            "/content/drive/My Drive/ATMS 597/Project4\n"
          ],
          "name": "stdout"
        }
      ]
    },
    {
      "cell_type": "markdown",
      "metadata": {
        "id": "p80xYI7KgaSk",
        "colab_type": "text"
      },
      "source": [
        "Tasks\n",
        "1. Use multiple linear regression to predict weather using past Global Forecast System (GFS) forecast data. \n",
        "\n",
        "2. Use random forest regression to predict weather using past GFS forecast data. \n",
        "\n",
        "Predict these variables for the period 6 UTC to 6 UTC the following day: \n",
        "* Maximum Temperature (C)\n",
        "* Minimum Temperature (C)\n",
        "* Maximum Wind Speed (m/s)\n",
        "* Total precipitation accumulation (mm)\n",
        "\n"
      ]
    },
    {
      "cell_type": "markdown",
      "metadata": {
        "id": "bdAHdn7Rh7o-",
        "colab_type": "text"
      },
      "source": [
        "Day 0 at 12 UTC: you will have a model run (that's given to you)\n",
        "* can incorporate observations up to but not including 00UTC \n",
        "* at the point of 00UTC will predict from 06UTC to 06UTC the next day \n",
        "\n",
        "Have 2 observational files (can be used in training, can also be used for verification)\n",
        "* KCMI_hourly.csv\n",
        "* KCMI_daily_obs.csv\n",
        "* ^^ have to sum hourly observations to get total precipitation, has daily values even though the column heading says \"hourly\"\n",
        "\n",
        "use pr1h or pr6h to correct for seasonal biases? (seems optional?) \n",
        "\n",
        "from the GFS: \n",
        "* daily.tar.gz, prof.tar.gz, sfc.tar.gz (UNIX zip files)\n",
        "* for each run they contain a csv file that has the GFS forecast data \n",
        "* sfc.tar.gz - has a lot of data if you want to play around with it (sounds optional)\n",
        "* prof.tar.gz - some upper air values (includes ~5 pressure levels) (can include if you want to) (sounds optional)\n",
        "* each run has a timestamp that starts at 12UTC\n",
        "\n",
        "main challenge: to get data lined up in Pandas \n",
        "\n",
        "start simple: start with a few variables and do a multiple linear regression, make sure things are working right \n",
        "\n",
        "could generate a persistence variable, try to predict tomorrow's data \n",
        "\n",
        "then could slowly add in more variables as you get more confidence \n",
        "\n",
        "could select different columns and see if your biases get better or worse as you swap out different columns - could write a function for this? \n",
        "\n",
        "2019 as a validation set \n",
        "\n",
        "calculate one metric: the RMS error (performance metric)\n",
        "\n",
        "this week, focus on getting data read in and organized \n",
        "\n",
        "\n",
        "\n",
        "NOW: CAN SUBSTITUTE BICYCLE RIDERS IN WITH TEMPERATURE DATA (MODULE 4 NOTEBOOK 1): PREDICT TEMPERATURE TOMORROW "
      ]
    },
    {
      "cell_type": "code",
      "metadata": {
        "id": "xQuMQq6LeYt1",
        "colab_type": "code",
        "colab": {}
      },
      "source": [
        "KCMI_daily_df = pd.read_csv(\"KCMI_daily.csv\", skiprows=8, parse_dates=True, index_col = 'Date')"
      ],
      "execution_count": 0,
      "outputs": []
    },
    {
      "cell_type": "code",
      "metadata": {
        "id": "lNJb5KMkkNw5",
        "colab_type": "code",
        "colab": {}
      },
      "source": [
        "KCMI_daily_df = KCMI_daily_df.iloc[0:3652, 0:4]"
      ],
      "execution_count": 0,
      "outputs": []
    },
    {
      "cell_type": "code",
      "metadata": {
        "id": "jk8_SyO9orqX",
        "colab_type": "code",
        "outputId": "cdd5327c-2e37-409c-a700-96f09b5f8f27",
        "colab": {
          "base_uri": "https://localhost:8080/",
          "height": 225
        }
      },
      "source": [
        "KCMI_daily_df.head()"
      ],
      "execution_count": 139,
      "outputs": [
        {
          "output_type": "execute_result",
          "data": {
            "text/html": [
              "<div>\n",
              "<style scoped>\n",
              "    .dataframe tbody tr th:only-of-type {\n",
              "        vertical-align: middle;\n",
              "    }\n",
              "\n",
              "    .dataframe tbody tr th {\n",
              "        vertical-align: top;\n",
              "    }\n",
              "\n",
              "    .dataframe thead th {\n",
              "        text-align: right;\n",
              "    }\n",
              "</style>\n",
              "<table border=\"1\" class=\"dataframe\">\n",
              "  <thead>\n",
              "    <tr style=\"text-align: right;\">\n",
              "      <th></th>\n",
              "      <th>Max Hourly Temp (F)</th>\n",
              "      <th>Min Hourly Temp (F)</th>\n",
              "      <th>Max Wind Speed (mph)</th>\n",
              "      <th>Total Precip (in)</th>\n",
              "    </tr>\n",
              "    <tr>\n",
              "      <th>Date</th>\n",
              "      <th></th>\n",
              "      <th></th>\n",
              "      <th></th>\n",
              "      <th></th>\n",
              "    </tr>\n",
              "  </thead>\n",
              "  <tbody>\n",
              "    <tr>\n",
              "      <th>2010-01-01</th>\n",
              "      <td>12</td>\n",
              "      <td>2</td>\n",
              "      <td>15</td>\n",
              "      <td>M</td>\n",
              "    </tr>\n",
              "    <tr>\n",
              "      <th>2010-01-02</th>\n",
              "      <td>6</td>\n",
              "      <td>-5</td>\n",
              "      <td>15</td>\n",
              "      <td>0.00</td>\n",
              "    </tr>\n",
              "    <tr>\n",
              "      <th>2010-01-03</th>\n",
              "      <td>10</td>\n",
              "      <td>-6</td>\n",
              "      <td>11</td>\n",
              "      <td>0.00</td>\n",
              "    </tr>\n",
              "    <tr>\n",
              "      <th>2010-01-04</th>\n",
              "      <td>11</td>\n",
              "      <td>-2</td>\n",
              "      <td>20</td>\n",
              "      <td>0.00</td>\n",
              "    </tr>\n",
              "    <tr>\n",
              "      <th>2010-01-05</th>\n",
              "      <td>10</td>\n",
              "      <td>-1</td>\n",
              "      <td>16</td>\n",
              "      <td>M</td>\n",
              "    </tr>\n",
              "  </tbody>\n",
              "</table>\n",
              "</div>"
            ],
            "text/plain": [
              "           Max Hourly Temp (F)  ... Total Precip (in)\n",
              "Date                            ...                  \n",
              "2010-01-01                  12  ...                 M\n",
              "2010-01-02                   6  ...              0.00\n",
              "2010-01-03                  10  ...              0.00\n",
              "2010-01-04                  11  ...              0.00\n",
              "2010-01-05                  10  ...                 M\n",
              "\n",
              "[5 rows x 4 columns]"
            ]
          },
          "metadata": {
            "tags": []
          },
          "execution_count": 139
        }
      ]
    },
    {
      "cell_type": "code",
      "metadata": {
        "id": "4oImRK2LRhxf",
        "colab_type": "code",
        "outputId": "324e6cd1-e2ae-4ecb-fcad-6c82710879b1",
        "colab": {
          "base_uri": "https://localhost:8080/",
          "height": 431
        }
      },
      "source": [
        "KCMI_daily_df.rename(columns={'Max Hourly Temp (F)': 'Max_Temp', 'Min Hourly Temp (F)': 'Min_Temp', 'Max Wind Speed (mph)': 'Max_Wind', 'Total Precip (in)': 'Total_Precip'}, inplace = True)\n",
        "KCMI_daily_df"
      ],
      "execution_count": 140,
      "outputs": [
        {
          "output_type": "execute_result",
          "data": {
            "text/html": [
              "<div>\n",
              "<style scoped>\n",
              "    .dataframe tbody tr th:only-of-type {\n",
              "        vertical-align: middle;\n",
              "    }\n",
              "\n",
              "    .dataframe tbody tr th {\n",
              "        vertical-align: top;\n",
              "    }\n",
              "\n",
              "    .dataframe thead th {\n",
              "        text-align: right;\n",
              "    }\n",
              "</style>\n",
              "<table border=\"1\" class=\"dataframe\">\n",
              "  <thead>\n",
              "    <tr style=\"text-align: right;\">\n",
              "      <th></th>\n",
              "      <th>Max_Temp</th>\n",
              "      <th>Min_Temp</th>\n",
              "      <th>Max_Wind</th>\n",
              "      <th>Total_Precip</th>\n",
              "    </tr>\n",
              "    <tr>\n",
              "      <th>Date</th>\n",
              "      <th></th>\n",
              "      <th></th>\n",
              "      <th></th>\n",
              "      <th></th>\n",
              "    </tr>\n",
              "  </thead>\n",
              "  <tbody>\n",
              "    <tr>\n",
              "      <th>2010-01-01</th>\n",
              "      <td>12</td>\n",
              "      <td>2</td>\n",
              "      <td>15</td>\n",
              "      <td>M</td>\n",
              "    </tr>\n",
              "    <tr>\n",
              "      <th>2010-01-02</th>\n",
              "      <td>6</td>\n",
              "      <td>-5</td>\n",
              "      <td>15</td>\n",
              "      <td>0.00</td>\n",
              "    </tr>\n",
              "    <tr>\n",
              "      <th>2010-01-03</th>\n",
              "      <td>10</td>\n",
              "      <td>-6</td>\n",
              "      <td>11</td>\n",
              "      <td>0.00</td>\n",
              "    </tr>\n",
              "    <tr>\n",
              "      <th>2010-01-04</th>\n",
              "      <td>11</td>\n",
              "      <td>-2</td>\n",
              "      <td>20</td>\n",
              "      <td>0.00</td>\n",
              "    </tr>\n",
              "    <tr>\n",
              "      <th>2010-01-05</th>\n",
              "      <td>10</td>\n",
              "      <td>-1</td>\n",
              "      <td>16</td>\n",
              "      <td>M</td>\n",
              "    </tr>\n",
              "    <tr>\n",
              "      <th>...</th>\n",
              "      <td>...</td>\n",
              "      <td>...</td>\n",
              "      <td>...</td>\n",
              "      <td>...</td>\n",
              "    </tr>\n",
              "    <tr>\n",
              "      <th>2019-12-27</th>\n",
              "      <td>43</td>\n",
              "      <td>32</td>\n",
              "      <td>15</td>\n",
              "      <td>0.00</td>\n",
              "    </tr>\n",
              "    <tr>\n",
              "      <th>2019-12-28</th>\n",
              "      <td>56</td>\n",
              "      <td>32</td>\n",
              "      <td>23</td>\n",
              "      <td>0.23</td>\n",
              "    </tr>\n",
              "    <tr>\n",
              "      <th>2019-12-29</th>\n",
              "      <td>59</td>\n",
              "      <td>41</td>\n",
              "      <td>23</td>\n",
              "      <td>0.22</td>\n",
              "    </tr>\n",
              "    <tr>\n",
              "      <th>2019-12-30</th>\n",
              "      <td>38</td>\n",
              "      <td>31</td>\n",
              "      <td>26</td>\n",
              "      <td>0.01</td>\n",
              "    </tr>\n",
              "    <tr>\n",
              "      <th>2019-12-31</th>\n",
              "      <td>33</td>\n",
              "      <td>30</td>\n",
              "      <td>29</td>\n",
              "      <td>0.00</td>\n",
              "    </tr>\n",
              "  </tbody>\n",
              "</table>\n",
              "<p>3652 rows × 4 columns</p>\n",
              "</div>"
            ],
            "text/plain": [
              "           Max_Temp Min_Temp Max_Wind Total_Precip\n",
              "Date                                              \n",
              "2010-01-01       12        2       15            M\n",
              "2010-01-02        6       -5       15         0.00\n",
              "2010-01-03       10       -6       11         0.00\n",
              "2010-01-04       11       -2       20         0.00\n",
              "2010-01-05       10       -1       16            M\n",
              "...             ...      ...      ...          ...\n",
              "2019-12-27       43       32       15         0.00\n",
              "2019-12-28       56       32       23         0.23\n",
              "2019-12-29       59       41       23         0.22\n",
              "2019-12-30       38       31       26         0.01\n",
              "2019-12-31       33       30       29         0.00\n",
              "\n",
              "[3652 rows x 4 columns]"
            ]
          },
          "metadata": {
            "tags": []
          },
          "execution_count": 140
        }
      ]
    },
    {
      "cell_type": "code",
      "metadata": {
        "id": "tTL3p4aIT1Uu",
        "colab_type": "code",
        "colab": {}
      },
      "source": [
        "Practice_KCMI_daily = KCMI_daily_df[:]"
      ],
      "execution_count": 0,
      "outputs": []
    },
    {
      "cell_type": "code",
      "metadata": {
        "id": "ZUbN8zfEsYyQ",
        "colab_type": "code",
        "outputId": "dde8da4b-c16e-48a8-aa92-f39e10c56490",
        "colab": {
          "base_uri": "https://localhost:8080/",
          "height": 431
        }
      },
      "source": [
        "Practice_KCMI_daily = Practice_KCMI_daily[(Practice_KCMI_daily!='M')]\n",
        "Practice_KCMI_daily"
      ],
      "execution_count": 142,
      "outputs": [
        {
          "output_type": "execute_result",
          "data": {
            "text/html": [
              "<div>\n",
              "<style scoped>\n",
              "    .dataframe tbody tr th:only-of-type {\n",
              "        vertical-align: middle;\n",
              "    }\n",
              "\n",
              "    .dataframe tbody tr th {\n",
              "        vertical-align: top;\n",
              "    }\n",
              "\n",
              "    .dataframe thead th {\n",
              "        text-align: right;\n",
              "    }\n",
              "</style>\n",
              "<table border=\"1\" class=\"dataframe\">\n",
              "  <thead>\n",
              "    <tr style=\"text-align: right;\">\n",
              "      <th></th>\n",
              "      <th>Max_Temp</th>\n",
              "      <th>Min_Temp</th>\n",
              "      <th>Max_Wind</th>\n",
              "      <th>Total_Precip</th>\n",
              "    </tr>\n",
              "    <tr>\n",
              "      <th>Date</th>\n",
              "      <th></th>\n",
              "      <th></th>\n",
              "      <th></th>\n",
              "      <th></th>\n",
              "    </tr>\n",
              "  </thead>\n",
              "  <tbody>\n",
              "    <tr>\n",
              "      <th>2010-01-01</th>\n",
              "      <td>12</td>\n",
              "      <td>2</td>\n",
              "      <td>15</td>\n",
              "      <td>NaN</td>\n",
              "    </tr>\n",
              "    <tr>\n",
              "      <th>2010-01-02</th>\n",
              "      <td>6</td>\n",
              "      <td>-5</td>\n",
              "      <td>15</td>\n",
              "      <td>0.00</td>\n",
              "    </tr>\n",
              "    <tr>\n",
              "      <th>2010-01-03</th>\n",
              "      <td>10</td>\n",
              "      <td>-6</td>\n",
              "      <td>11</td>\n",
              "      <td>0.00</td>\n",
              "    </tr>\n",
              "    <tr>\n",
              "      <th>2010-01-04</th>\n",
              "      <td>11</td>\n",
              "      <td>-2</td>\n",
              "      <td>20</td>\n",
              "      <td>0.00</td>\n",
              "    </tr>\n",
              "    <tr>\n",
              "      <th>2010-01-05</th>\n",
              "      <td>10</td>\n",
              "      <td>-1</td>\n",
              "      <td>16</td>\n",
              "      <td>NaN</td>\n",
              "    </tr>\n",
              "    <tr>\n",
              "      <th>...</th>\n",
              "      <td>...</td>\n",
              "      <td>...</td>\n",
              "      <td>...</td>\n",
              "      <td>...</td>\n",
              "    </tr>\n",
              "    <tr>\n",
              "      <th>2019-12-27</th>\n",
              "      <td>43</td>\n",
              "      <td>32</td>\n",
              "      <td>15</td>\n",
              "      <td>0.00</td>\n",
              "    </tr>\n",
              "    <tr>\n",
              "      <th>2019-12-28</th>\n",
              "      <td>56</td>\n",
              "      <td>32</td>\n",
              "      <td>23</td>\n",
              "      <td>0.23</td>\n",
              "    </tr>\n",
              "    <tr>\n",
              "      <th>2019-12-29</th>\n",
              "      <td>59</td>\n",
              "      <td>41</td>\n",
              "      <td>23</td>\n",
              "      <td>0.22</td>\n",
              "    </tr>\n",
              "    <tr>\n",
              "      <th>2019-12-30</th>\n",
              "      <td>38</td>\n",
              "      <td>31</td>\n",
              "      <td>26</td>\n",
              "      <td>0.01</td>\n",
              "    </tr>\n",
              "    <tr>\n",
              "      <th>2019-12-31</th>\n",
              "      <td>33</td>\n",
              "      <td>30</td>\n",
              "      <td>29</td>\n",
              "      <td>0.00</td>\n",
              "    </tr>\n",
              "  </tbody>\n",
              "</table>\n",
              "<p>3652 rows × 4 columns</p>\n",
              "</div>"
            ],
            "text/plain": [
              "           Max_Temp Min_Temp Max_Wind Total_Precip\n",
              "Date                                              \n",
              "2010-01-01       12        2       15          NaN\n",
              "2010-01-02        6       -5       15         0.00\n",
              "2010-01-03       10       -6       11         0.00\n",
              "2010-01-04       11       -2       20         0.00\n",
              "2010-01-05       10       -1       16          NaN\n",
              "...             ...      ...      ...          ...\n",
              "2019-12-27       43       32       15         0.00\n",
              "2019-12-28       56       32       23         0.23\n",
              "2019-12-29       59       41       23         0.22\n",
              "2019-12-30       38       31       26         0.01\n",
              "2019-12-31       33       30       29         0.00\n",
              "\n",
              "[3652 rows x 4 columns]"
            ]
          },
          "metadata": {
            "tags": []
          },
          "execution_count": 142
        }
      ]
    },
    {
      "cell_type": "code",
      "metadata": {
        "id": "XO30hEaxtLsC",
        "colab_type": "code",
        "colab": {}
      },
      "source": [
        ""
      ],
      "execution_count": 0,
      "outputs": []
    },
    {
      "cell_type": "code",
      "metadata": {
        "id": "C5UMZbPbdmXh",
        "colab_type": "code",
        "colab": {}
      },
      "source": [
        "# create an array of the dates where Total_Precip=M \n",
        "M_dates = KCMI_daily_df.index[(KCMI_daily_df.Total_Precip == 'M')]"
      ],
      "execution_count": 0,
      "outputs": []
    },
    {
      "cell_type": "markdown",
      "metadata": {
        "id": "Nz6QLswpRhZB",
        "colab_type": "text"
      },
      "source": [
        "Bring In KCMI Hourly Data"
      ]
    },
    {
      "cell_type": "code",
      "metadata": {
        "id": "HYYbaVE0pVfM",
        "colab_type": "code",
        "colab": {}
      },
      "source": [
        "KCMI_hourly_df = pd.read_csv(\"KCMI_hourly.csv\", parse_dates=True, index_col = 'Timestamp')"
      ],
      "execution_count": 0,
      "outputs": []
    },
    {
      "cell_type": "code",
      "metadata": {
        "id": "nR0EjzRVvoSp",
        "colab_type": "code",
        "outputId": "48107d80-2562-49ca-b99d-bf322e26ccde",
        "colab": {
          "base_uri": "https://localhost:8080/",
          "height": 225
        }
      },
      "source": [
        "KCMI_hourly_df.head()"
      ],
      "execution_count": 144,
      "outputs": [
        {
          "output_type": "execute_result",
          "data": {
            "text/html": [
              "<div>\n",
              "<style scoped>\n",
              "    .dataframe tbody tr th:only-of-type {\n",
              "        vertical-align: middle;\n",
              "    }\n",
              "\n",
              "    .dataframe tbody tr th {\n",
              "        vertical-align: top;\n",
              "    }\n",
              "\n",
              "    .dataframe thead th {\n",
              "        text-align: right;\n",
              "    }\n",
              "</style>\n",
              "<table border=\"1\" class=\"dataframe\">\n",
              "  <thead>\n",
              "    <tr style=\"text-align: right;\">\n",
              "      <th></th>\n",
              "      <th>year</th>\n",
              "      <th>month</th>\n",
              "      <th>day</th>\n",
              "      <th>hour</th>\n",
              "      <th>tmpc</th>\n",
              "      <th>dwpc</th>\n",
              "      <th>mslp</th>\n",
              "      <th>wdir</th>\n",
              "      <th>wspd</th>\n",
              "      <th>skct</th>\n",
              "      <th>pr1h</th>\n",
              "      <th>pr6h</th>\n",
              "      <th>doy</th>\n",
              "      <th>woy</th>\n",
              "    </tr>\n",
              "    <tr>\n",
              "      <th>Timestamp</th>\n",
              "      <th></th>\n",
              "      <th></th>\n",
              "      <th></th>\n",
              "      <th></th>\n",
              "      <th></th>\n",
              "      <th></th>\n",
              "      <th></th>\n",
              "      <th></th>\n",
              "      <th></th>\n",
              "      <th></th>\n",
              "      <th></th>\n",
              "      <th></th>\n",
              "      <th></th>\n",
              "      <th></th>\n",
              "    </tr>\n",
              "  </thead>\n",
              "  <tbody>\n",
              "    <tr>\n",
              "      <th>2005-12-31 19:00:00</th>\n",
              "      <td>2006</td>\n",
              "      <td>1</td>\n",
              "      <td>1</td>\n",
              "      <td>1</td>\n",
              "      <td>0.6</td>\n",
              "      <td>-1.7</td>\n",
              "      <td>1012.6</td>\n",
              "      <td>220.0</td>\n",
              "      <td>2.1</td>\n",
              "      <td>2.0</td>\n",
              "      <td>0.0</td>\n",
              "      <td>NaN</td>\n",
              "      <td>365</td>\n",
              "      <td>52</td>\n",
              "    </tr>\n",
              "    <tr>\n",
              "      <th>2005-12-31 20:00:00</th>\n",
              "      <td>2006</td>\n",
              "      <td>1</td>\n",
              "      <td>1</td>\n",
              "      <td>2</td>\n",
              "      <td>0.0</td>\n",
              "      <td>-1.7</td>\n",
              "      <td>1012.9</td>\n",
              "      <td>160.0</td>\n",
              "      <td>2.1</td>\n",
              "      <td>0.0</td>\n",
              "      <td>0.0</td>\n",
              "      <td>NaN</td>\n",
              "      <td>365</td>\n",
              "      <td>52</td>\n",
              "    </tr>\n",
              "    <tr>\n",
              "      <th>2005-12-31 21:00:00</th>\n",
              "      <td>2006</td>\n",
              "      <td>1</td>\n",
              "      <td>1</td>\n",
              "      <td>3</td>\n",
              "      <td>-0.6</td>\n",
              "      <td>-2.2</td>\n",
              "      <td>1013.4</td>\n",
              "      <td>170.0</td>\n",
              "      <td>1.5</td>\n",
              "      <td>0.0</td>\n",
              "      <td>0.0</td>\n",
              "      <td>NaN</td>\n",
              "      <td>365</td>\n",
              "      <td>52</td>\n",
              "    </tr>\n",
              "    <tr>\n",
              "      <th>2005-12-31 22:00:00</th>\n",
              "      <td>2006</td>\n",
              "      <td>1</td>\n",
              "      <td>1</td>\n",
              "      <td>4</td>\n",
              "      <td>-1.1</td>\n",
              "      <td>-2.2</td>\n",
              "      <td>1012.9</td>\n",
              "      <td>160.0</td>\n",
              "      <td>3.1</td>\n",
              "      <td>0.0</td>\n",
              "      <td>0.0</td>\n",
              "      <td>NaN</td>\n",
              "      <td>365</td>\n",
              "      <td>52</td>\n",
              "    </tr>\n",
              "    <tr>\n",
              "      <th>2005-12-31 23:00:00</th>\n",
              "      <td>2006</td>\n",
              "      <td>1</td>\n",
              "      <td>1</td>\n",
              "      <td>5</td>\n",
              "      <td>-1.1</td>\n",
              "      <td>-2.2</td>\n",
              "      <td>1013.1</td>\n",
              "      <td>160.0</td>\n",
              "      <td>3.1</td>\n",
              "      <td>0.0</td>\n",
              "      <td>0.0</td>\n",
              "      <td>NaN</td>\n",
              "      <td>365</td>\n",
              "      <td>52</td>\n",
              "    </tr>\n",
              "  </tbody>\n",
              "</table>\n",
              "</div>"
            ],
            "text/plain": [
              "                     year  month  day  hour  tmpc  ...  skct  pr1h  pr6h  doy  woy\n",
              "Timestamp                                          ...                            \n",
              "2005-12-31 19:00:00  2006      1    1     1   0.6  ...   2.0   0.0   NaN  365   52\n",
              "2005-12-31 20:00:00  2006      1    1     2   0.0  ...   0.0   0.0   NaN  365   52\n",
              "2005-12-31 21:00:00  2006      1    1     3  -0.6  ...   0.0   0.0   NaN  365   52\n",
              "2005-12-31 22:00:00  2006      1    1     4  -1.1  ...   0.0   0.0   NaN  365   52\n",
              "2005-12-31 23:00:00  2006      1    1     5  -1.1  ...   0.0   0.0   NaN  365   52\n",
              "\n",
              "[5 rows x 14 columns]"
            ]
          },
          "metadata": {
            "tags": []
          },
          "execution_count": 144
        }
      ]
    },
    {
      "cell_type": "markdown",
      "metadata": {
        "id": "_u9Byb3USGUD",
        "colab_type": "text"
      },
      "source": [
        "clean up and rename columns? "
      ]
    },
    {
      "cell_type": "code",
      "metadata": {
        "id": "gf5adchYg78P",
        "colab_type": "code",
        "colab": {}
      },
      "source": [
        "# Use M_dates to select out dates from KCMI_hourly\n",
        "# Sum hourly values from KCMI_hourly \n",
        "# Bring those values back into KCMI_daily "
      ],
      "execution_count": 0,
      "outputs": []
    },
    {
      "cell_type": "markdown",
      "metadata": {
        "id": "7ch6LANThck9",
        "colab_type": "text"
      },
      "source": [
        "Linear Regression "
      ]
    },
    {
      "cell_type": "markdown",
      "metadata": {
        "id": "AFmJqPIghabQ",
        "colab_type": "text"
      },
      "source": [
        "Machine Learning"
      ]
    },
    {
      "cell_type": "code",
      "metadata": {
        "id": "_Ty70n4VSfzA",
        "colab_type": "code",
        "colab": {}
      },
      "source": [
        "from sklearn.model_selection import train_test_split"
      ],
      "execution_count": 0,
      "outputs": []
    },
    {
      "cell_type": "code",
      "metadata": {
        "id": "zqvvvbnfv5rF",
        "colab_type": "code",
        "colab": {}
      },
      "source": [
        "# TODO change back to KCMI_daily \n",
        "# Get Rid of NaN values \n",
        "col_mask=Practice_KCMI_daily.isnull().any(axis=0) \n",
        "row_mask=Practice_KCMI_daily.isnull().any(axis=1)\n",
        "Practice_KCMI_daily.loc[row_mask,col_mask]\n",
        "\n",
        "Practice_KCMI_daily.dropna(inplace=True)"
      ],
      "execution_count": 0,
      "outputs": []
    },
    {
      "cell_type": "code",
      "metadata": {
        "id": "quWaes_PSjx8",
        "colab_type": "code",
        "colab": {}
      },
      "source": [
        "# TODO change back to KCMI_daily \n",
        "x = Practice_KCMI_daily.drop(['Total_Precip'], axis=1)\n",
        "y = Practice_KCMI_daily['Total_Precip']\n",
        "\n",
        "x_train, x_test, y_train, y_test = train_test_split(x, y, test_size = 0.1, random_state=123)\n",
        "print(x_train.shape, x_test.shape, y_train.shape, y_test.shape)"
      ],
      "execution_count": 0,
      "outputs": []
    },
    {
      "cell_type": "code",
      "metadata": {
        "id": "-oVw84rQTNuz",
        "colab_type": "code",
        "colab": {
          "base_uri": "https://localhost:8080/",
          "height": 122
        },
        "outputId": "033394cd-9f15-49ad-9084-087b8a6c2412"
      },
      "source": [
        "from sklearn.tree import DecisionTreeRegressor \n",
        "from sklearn.ensemble import RandomForestRegressor \n",
        "\n",
        "tree_model = DecisionTreeRegressor()\n",
        "rf_model = RandomForestRegressor()\n",
        "\n",
        "tree_model.fit(x_train, y_train) "
      ],
      "execution_count": 157,
      "outputs": [
        {
          "output_type": "execute_result",
          "data": {
            "text/plain": [
              "DecisionTreeRegressor(ccp_alpha=0.0, criterion='mse', max_depth=None,\n",
              "                      max_features=None, max_leaf_nodes=None,\n",
              "                      min_impurity_decrease=0.0, min_impurity_split=None,\n",
              "                      min_samples_leaf=1, min_samples_split=2,\n",
              "                      min_weight_fraction_leaf=0.0, presort='deprecated',\n",
              "                      random_state=None, splitter='best')"
            ]
          },
          "metadata": {
            "tags": []
          },
          "execution_count": 157
        }
      ]
    },
    {
      "cell_type": "markdown",
      "metadata": {
        "id": "1NMPWCezyY6d",
        "colab_type": "text"
      },
      "source": [
        "Tar Files"
      ]
    },
    {
      "cell_type": "code",
      "metadata": {
        "id": "CSzR5uJCv4JR",
        "colab_type": "code",
        "colab": {}
      },
      "source": [
        "Daily_Tar = open(\"daily.tar.gz\")"
      ],
      "execution_count": 0,
      "outputs": []
    },
    {
      "cell_type": "code",
      "metadata": {
        "id": "Z2AmGfu--FEw",
        "colab_type": "code",
        "colab": {}
      },
      "source": [
        ""
      ],
      "execution_count": 0,
      "outputs": []
    }
  ]
}