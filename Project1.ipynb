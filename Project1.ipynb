{
  "nbformat": 4,
  "nbformat_minor": 0,
  "metadata": {
    "colab": {
      "name": "Project1.ipynb",
      "provenance": [],
      "collapsed_sections": [],
      "authorship_tag": "ABX9TyOpMnyTHwbrVTBTralmna9h",
      "include_colab_link": true
    },
    "kernelspec": {
      "name": "python3",
      "display_name": "Python 3"
    }
  },
  "cells": [
    {
      "cell_type": "markdown",
      "metadata": {
        "id": "view-in-github",
        "colab_type": "text"
      },
      "source": [
        "<a href=\"https://colab.research.google.com/github/kevingray92/ATMS-597-SP-2020/blob/K_to_F/Project1.ipynb\" target=\"_parent\"><img src=\"https://colab.research.google.com/assets/colab-badge.svg\" alt=\"Open In Colab\"/></a>"
      ]
    },
    {
      "cell_type": "code",
      "metadata": {
        "id": "DVf080VR2nQD",
        "colab_type": "code",
        "colab": {}
      },
      "source": [
        "###Project 1###"
      ],
      "execution_count": 0,
      "outputs": []
    },
    {
      "cell_type": "code",
      "metadata": {
        "id": "Y5n3s7_t2ryo",
        "colab_type": "code",
        "colab": {}
      },
      "source": [
        "###We need a class that basically defines 6 functions.\n",
        "###The functions will convert:\n",
        "###1. Kelvin to Fahrenheit   (Kevin will work on this)\n",
        "###2. Kelvin to Celsius      (Kevin will work on this)\n",
        "###3. Fahrenheit to Kelvin   (Rylan will work on this)\n",
        "###4. Fahrenheit to Celsius  (Rylan will work on this)\n",
        "###5. Celsius to Kelvin      (Joyce will work on this)\n",
        "###6. Celsius to Fahrenheit  (Joyce will work on this)"
      ],
      "execution_count": 0,
      "outputs": []
    },
    {
      "cell_type": "code",
      "metadata": {
        "id": "9M5mAl0O3_dC",
        "colab_type": "code",
        "colab": {}
      },
      "source": [
        "class convert:\n",
        "    \"\"\"A class for various conversions between temperature units\"\"\"\n",
        "    def K_to_F(K):\n",
        "        F = ((K-273.15)*(9/5))+32\n",
        "        return(F)\n",
        "    def K_to_C(K):\n",
        "        C = K-273.15\n",
        "        return(C)"
      ],
      "execution_count": 0,
      "outputs": []
    },
    {
      "cell_type": "code",
      "metadata": {
        "id": "GoRi0cc84pSd",
        "colab_type": "code",
        "colab": {}
      },
      "source": [
        "x=convert"
      ],
      "execution_count": 0,
      "outputs": []
    },
    {
      "cell_type": "code",
      "metadata": {
        "id": "i4kvbw_g4rkz",
        "colab_type": "code",
        "outputId": "8afbb26d-a937-4a1d-b7af-4132dd26fb28",
        "colab": {
          "base_uri": "https://localhost:8080/",
          "height": 34
        }
      },
      "source": [
        "x.K_to_C(273.15)"
      ],
      "execution_count": 7,
      "outputs": [
        {
          "output_type": "execute_result",
          "data": {
            "text/plain": [
              "0.0"
            ]
          },
          "metadata": {
            "tags": []
          },
          "execution_count": 7
        }
      ]
    },
    {
      "cell_type": "code",
      "metadata": {
        "id": "f6jn4Tuh8esl",
        "colab_type": "code",
        "colab": {
          "base_uri": "https://localhost:8080/",
          "height": 34
        },
        "outputId": "47dccb3d-4003-4550-c356-1e1220ee26c1"
      },
      "source": [
        "x.K_to_F(273.15)"
      ],
      "execution_count": 8,
      "outputs": [
        {
          "output_type": "execute_result",
          "data": {
            "text/plain": [
              "32.0"
            ]
          },
          "metadata": {
            "tags": []
          },
          "execution_count": 8
        }
      ]
    },
    {
      "cell_type": "code",
      "metadata": {
        "id": "LjHqesfW4was",
        "colab_type": "code",
        "colab": {}
      },
      "source": [
        "###Here is the basic idea. Need to make sure this works on lists and numpy arrays as part of the project (my code above currently does not do that - Kevin)"
      ],
      "execution_count": 0,
      "outputs": []
    }
  ]
}